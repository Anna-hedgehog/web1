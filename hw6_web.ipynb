{
 "cells": [
  {
   "cell_type": "code",
   "execution_count": 79,
   "metadata": {},
   "outputs": [],
   "source": [
    "from flask import Flask, url_for, render_template, request, redirect\n",
    "import sqlite3\n",
    "from sqlalchemy import func\n",
    "from flask_sqlalchemy import SQLAlchemy"
   ]
  },
  {
   "cell_type": "markdown",
   "metadata": {},
   "source": [
    "Подготовим базу:"
   ]
  },
  {
   "cell_type": "code",
   "execution_count": 82,
   "metadata": {},
   "outputs": [
    {
     "data": {
      "text/plain": [
       "<sqlite3.Cursor at 0x6302f20>"
      ]
     },
     "execution_count": 82,
     "metadata": {},
     "output_type": "execute_result"
    }
   ],
   "source": [
    "db = sqlite3.connect('n_y_mood.db')\n",
    "cur = db.cursor()\n",
    "\n",
    "cur.execute(\n",
    "    \"\"\"CREATE TABLE \n",
    "    answers (\n",
    "    id INTEGER PRIMARY KEY AUTOINCREMENT,\n",
    "    q1 TEXT,\n",
    "    q2 TEXT\n",
    "    )\"\"\")\n",
    "\n",
    "cur.execute(\n",
    "    \"\"\"CREATE TABLE questions (\n",
    "    id INTEGER PRIMARY KEY AUTOINCREMENT,\n",
    "    text TEXT\n",
    "    )\"\"\")\n",
    "\n",
    "cur.execute(\n",
    "    \"\"\"CREATE TABLE \n",
    "    user ( \n",
    "    id INTEGER PRIMARY KEY AUTOINCREMENT,\n",
    "    age INTEGER,\n",
    "    gender TEXT,\n",
    "    education TEXT )\"\"\")"
   ]
  },
  {
   "cell_type": "markdown",
   "metadata": {},
   "source": [
    "Вопросы для опроса:"
   ]
  },
  {
   "cell_type": "code",
   "execution_count": 83,
   "metadata": {},
   "outputs": [],
   "source": [
    "questions = [('Оцените по шкале от 1 до 5, насколько вы сейчас загружены на работе или учёбе:',), \n",
    "             ('Оцените по шкале от 1 до 5, насколько вы чувствуете новогоднее настроение:',)]"
   ]
  },
  {
   "cell_type": "code",
   "execution_count": 84,
   "metadata": {},
   "outputs": [],
   "source": [
    "for question in questions:\n",
    "    cur.execute(\n",
    "        '''INSERT into questions (text) VALUES (?)''', question\n",
    "    )\n",
    "db.commit()"
   ]
  },
  {
   "cell_type": "markdown",
   "metadata": {},
   "source": [
    "Пишем код сайта:"
   ]
  },
  {
   "cell_type": "code",
   "execution_count": null,
   "metadata": {},
   "outputs": [
    {
     "name": "stdout",
     "output_type": "stream",
     "text": [
      " * Serving Flask app \"__main__\" (lazy loading)\n",
      " * Environment: production\n",
      "   WARNING: This is a development server. Do not use it in a production deployment.\n",
      "   Use a production WSGI server instead.\n",
      " * Debug mode: off\n"
     ]
    },
    {
     "name": "stderr",
     "output_type": "stream",
     "text": [
      " * Running on http://127.0.0.1:5000/ (Press CTRL+C to quit)\n",
      "127.0.0.1 - - [19/Dec/2021 22:43:39] \"\u001b[37mGET / HTTP/1.1\u001b[0m\" 200 -\n",
      "127.0.0.1 - - [19/Dec/2021 22:43:50] \"\u001b[37mGET /statistics HTTP/1.1\u001b[0m\" 200 -\n",
      "127.0.0.1 - - [19/Dec/2021 22:43:53] \"\u001b[37mGET /quest HTTP/1.1\u001b[0m\" 200 -\n"
     ]
    }
   ],
   "source": [
    "app = Flask(__name__)\n",
    "app.config['SQLALCHEMY_DATABASE_URI'] = 'sqlite:///n_y_mood.db'\n",
    "app.config['SQLALCHEMY_TRACK_MODIFICATIONS'] = False\n",
    "db = SQLAlchemy(app)\n",
    "\n",
    "class User(db.Model):\n",
    "    tablename = 'user'\n",
    "    id = db.Column(db.Integer, primary_key=True)\n",
    "    gender = db.Column(db.Text)\n",
    "    education = db.Column(db.Text)\n",
    "    age = db.Column(db.Integer)\n",
    "\n",
    "\n",
    "class Questions(db.Model):\n",
    "    tablename = 'questions'\n",
    "    id = db.Column(db.Integer, primary_key=True)\n",
    "    text = db.Column(db.Text)\n",
    "\n",
    "\n",
    "class Answers(db.Model):\n",
    "    tablename = 'answers'\n",
    "    id = db.Column(db.Integer, primary_key=True)\n",
    "    q1 = db.Column(db.Integer)\n",
    "    q2 = db.Column(db.Integer)\n",
    "\n",
    "    \n",
    "@app.route('/')\n",
    "def describe():\n",
    "    return render_template(\"describe.html\")\n",
    "\n",
    "@app.route('/quest')\n",
    "def quest():\n",
    "    questions = Questions.query.all()\n",
    "    return render_template(\n",
    "        'quest.html',\n",
    "        questions=questions\n",
    "    )\n",
    "\n",
    "@app.route('/process', methods=['get'])\n",
    "def answer_process():\n",
    "    if not request.args:\n",
    "        return redirect(url_for('question_page'))\n",
    "    gender = request.args.get('gender')\n",
    "    education = request.args.get('education')\n",
    "    age = request.args.get('age')\n",
    "    user = User(\n",
    "        age=age,\n",
    "        gender=gender,\n",
    "        education=education\n",
    "    )\n",
    "    db.session.add(user)\n",
    "    db.session.commit()\n",
    "    db.session.refresh(user)\n",
    "    q1 = request.args.get('q1')\n",
    "    q2 = request.args.get('q2')\n",
    "    answer = Answers(id=user.id, q1=q1, q2=q2)\n",
    "    db.session.add(answer)\n",
    "    db.session.commit()\n",
    "    return render_template(\"ok.html\")\n",
    "\n",
    "@app.route('/statistics')\n",
    "def statistics():\n",
    "    all_info = {}\n",
    "    age_stats = db.session.query(\n",
    "        func.avg(User.age),\n",
    "        func.min(User.age),\n",
    "        func.max(User.age)\n",
    "    ).one()\n",
    "    all_info['age_mean'] = age_stats[0]\n",
    "    all_info['age_min'] = age_stats[1]\n",
    "    all_info['age_max'] = age_stats[2]\n",
    "    all_info['total_count'] = User.query.count()\n",
    "    \n",
    "    q_stats = db.session.query(\n",
    "        func.avg(Answers.q1),\n",
    "        func.avg(Answers.q2),\n",
    "        func.avg(Answers.q2).filter(Answers.q1 >= 4),\n",
    "        func.avg(Answers.q2).filter(Answers.q1 <= 2)                              \n",
    "    ).one()\n",
    "    all_info['q1_mean'] = q_stats[0]\n",
    "    all_info['q2_mean'] = q_stats[1]\n",
    "    all_info['mood_tiredness45'] = q_stats[2]\n",
    "    all_info['mood_tiredness12'] = q_stats[3]\n",
    "\n",
    "    return render_template('statistics.html', all_info=all_info)\n",
    "\n",
    "\n",
    "if __name__ == '__main__':\n",
    "    app.run(debug=False)"
   ]
  },
  {
   "cell_type": "code",
   "execution_count": null,
   "metadata": {},
   "outputs": [],
   "source": []
  }
 ],
 "metadata": {
  "kernelspec": {
   "display_name": "Python 3",
   "language": "python",
   "name": "python3"
  },
  "language_info": {
   "codemirror_mode": {
    "name": "ipython",
    "version": 3
   },
   "file_extension": ".py",
   "mimetype": "text/x-python",
   "name": "python",
   "nbconvert_exporter": "python",
   "pygments_lexer": "ipython3",
   "version": "3.8.5"
  }
 },
 "nbformat": 4,
 "nbformat_minor": 4
}
